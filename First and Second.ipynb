{
 "cells": [
  {
   "cell_type": "markdown",
   "id": "424712a3",
   "metadata": {},
   "source": [
    "## Twin Primes"
   ]
  },
  {
   "cell_type": "code",
   "execution_count": 37,
   "id": "9b29747e",
   "metadata": {},
   "outputs": [],
   "source": [
    "# first need to find Primes:\n",
    "def twin_primes(n):\n",
    "    prime_list = [2]\n",
    "    twin_primes = []\n",
    "    for x in range(3,n,2):\n",
    "        for y in range(3,x):\n",
    "            if x%y == 0:\n",
    "                break\n",
    "        else:\n",
    "            prime_list.append(x)\n",
    "     \n",
    "    print(\"Twin Primes are:\\n\")\n",
    "    for i in range(len(prime_list)-1):\n",
    "        if prime_list[i] == prime_list[i+1] - 2:\n",
    "            print((prime_list[i],prime_list[i+1]))\n",
    "            \n"
   ]
  },
  {
   "cell_type": "code",
   "execution_count": 38,
   "id": "f6d6ed97",
   "metadata": {
    "scrolled": false
   },
   "outputs": [
    {
     "name": "stdout",
     "output_type": "stream",
     "text": [
      "Twin Primes are:\n",
      "\n",
      "(3, 5)\n",
      "(5, 7)\n",
      "(11, 13)\n",
      "(17, 19)\n",
      "(29, 31)\n",
      "(41, 43)\n",
      "(59, 61)\n",
      "(71, 73)\n"
     ]
    }
   ],
   "source": [
    "twin_primes(100)"
   ]
  },
  {
   "cell_type": "code",
   "execution_count": null,
   "id": "d01d3104",
   "metadata": {},
   "outputs": [],
   "source": []
  },
  {
   "cell_type": "markdown",
   "id": "36f43d1f",
   "metadata": {},
   "source": [
    "## Permutation and Combination"
   ]
  },
  {
   "cell_type": "code",
   "execution_count": 52,
   "id": "08c27067",
   "metadata": {},
   "outputs": [],
   "source": [
    "def factorial(n):\n",
    "    num = 1\n",
    "    for i in range(1,n+1):\n",
    "        num = num * i\n",
    "        \n",
    "    return num"
   ]
  },
  {
   "cell_type": "code",
   "execution_count": 54,
   "id": "29acb359",
   "metadata": {},
   "outputs": [
    {
     "data": {
      "text/plain": [
       "120"
      ]
     },
     "execution_count": 54,
     "metadata": {},
     "output_type": "execute_result"
    }
   ],
   "source": [
    "factorial(5)"
   ]
  },
  {
   "cell_type": "code",
   "execution_count": 67,
   "id": "e0bfc4be",
   "metadata": {},
   "outputs": [],
   "source": [
    "def permutation_combination(n,r):\n",
    "    print(f'Permutation: {factorial(n)/factorial(n-r)}')\n",
    "    print(f'Combination: {factorial(n)/(factorial(n-r)*factorial(r))}')"
   ]
  },
  {
   "cell_type": "code",
   "execution_count": 65,
   "id": "8f4f3c20",
   "metadata": {},
   "outputs": [
    {
     "name": "stdout",
     "output_type": "stream",
     "text": [
      "Permutation: 360.0\n",
      "Combination: 15.0\n"
     ]
    }
   ],
   "source": [
    "permutation_combination(6,4)"
   ]
  },
  {
   "cell_type": "code",
   "execution_count": null,
   "id": "e07d3b0b",
   "metadata": {},
   "outputs": [],
   "source": [
    "def combination(n,r):\n",
    "    print(factorial(n)/(factorial(n-r)*factorial(r)))"
   ]
  },
  {
   "cell_type": "code",
   "execution_count": null,
   "id": "770e7aeb",
   "metadata": {},
   "outputs": [],
   "source": []
  },
  {
   "cell_type": "markdown",
   "id": "32938dba",
   "metadata": {},
   "source": [
    "## Amicable Numbers"
   ]
  },
  {
   "cell_type": "code",
   "execution_count": 129,
   "id": "e485fd65",
   "metadata": {},
   "outputs": [],
   "source": [
    "def amicable_numbers(a,b):\n",
    "    divisor_sum = {}\n",
    "    for i in range(a,b+1):\n",
    "        divisor_sum[i] = 0\n",
    "        \n",
    "    for x in range(a,b+1):\n",
    "        for y in range(1,x):\n",
    "            if x%y == 0:\n",
    "                divisor_sum[x] = divisor_sum[x] + y\n",
    "              \n",
    "    for i in divisor_sum.keys():\n",
    "        if divisor_sum[i] in divisor_sum.keys() and divisor_sum[divisor_sum[i]] == i and divisor_sum[i] != i:\n",
    "             print((divisor_sum.get(divisor_sum[i]),i))\n",
    "            "
   ]
  },
  {
   "cell_type": "code",
   "execution_count": 130,
   "id": "394d2163",
   "metadata": {},
   "outputs": [
    {
     "name": "stdout",
     "output_type": "stream",
     "text": [
      "(220, 220)\n",
      "(284, 284)\n"
     ]
    }
   ],
   "source": [
    "amicable_numbers(1,284)"
   ]
  },
  {
   "cell_type": "code",
   "execution_count": 70,
   "id": "c428d340",
   "metadata": {},
   "outputs": [],
   "source": []
  },
  {
   "cell_type": "code",
   "execution_count": 131,
   "id": "36d5c499",
   "metadata": {},
   "outputs": [
    {
     "name": "stdout",
     "output_type": "stream",
     "text": [
      "(220, 220)\n",
      "(284, 284)\n"
     ]
    }
   ],
   "source": [
    "def amicable_numbers(a, b):\n",
    "    divisor_sum = {}\n",
    "    for i in range(a, b+1):\n",
    "        divisor_sum[i] = 0\n",
    "        \n",
    "    for x in range(a, b+1):\n",
    "        for y in range(1, x):\n",
    "            if x % y == 0:\n",
    "                divisor_sum[x] = divisor_sum[x] + y\n",
    "              \n",
    "    for i in divisor_sum.keys():\n",
    "        if divisor_sum.get(divisor_sum[i]) == i and divisor_sum[i] != i:\n",
    "            print((divisor_sum.get(divisor_sum[i]),i))\n",
    "\n",
    "amicable_numbers(1, 284)\n",
    "\n"
   ]
  },
  {
   "cell_type": "code",
   "execution_count": null,
   "id": "055fb2e5",
   "metadata": {},
   "outputs": [],
   "source": []
  }
 ],
 "metadata": {
  "kernelspec": {
   "display_name": "Python 3 (ipykernel)",
   "language": "python",
   "name": "python3"
  },
  "language_info": {
   "codemirror_mode": {
    "name": "ipython",
    "version": 3
   },
   "file_extension": ".py",
   "mimetype": "text/x-python",
   "name": "python",
   "nbconvert_exporter": "python",
   "pygments_lexer": "ipython3",
   "version": "3.11.4"
  }
 },
 "nbformat": 4,
 "nbformat_minor": 5
}
